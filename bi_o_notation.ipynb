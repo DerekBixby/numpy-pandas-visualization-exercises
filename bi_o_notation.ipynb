{
 "cells": [
  {
   "cell_type": "code",
   "execution_count": 1,
   "id": "5ec6097b",
   "metadata": {},
   "outputs": [],
   "source": [
    "import matplotlib.pyplot as plt\n",
    "import math as math\n",
    "import numpy as np\n",
    "import pandas as pd\n"
   ]
  },
  {
   "cell_type": "code",
   "execution_count": null,
   "id": "42df0dc7",
   "metadata": {},
   "outputs": [],
   "source": [
    "x= (range(1,20))\n",
    "y1 = [1 for n in x]\n",
    "y2 = [math.log(n) for n in x]\n",
    "y3 = x\n",
    "y4= [(n * math.log(n)) for n in x]\n",
    "y5= [n**2 for n in x]\n",
    "y6= [2**n for n in x]\n",
    "y7= [math.factorial(n) for n in x]\n",
    "y8= [n**n for n in x]\n",
    "\n",
    "plt.figure(figsize = (16,8))\n",
    "\n",
    "plt.plot(x,y1, color = 'cyan', label= 'y1= $O(1)$', alpha = .2)\n",
    "plt.plot(x,y2, color = 'red', label= 'y2 = $O(log n)$', alpha = .3)\n",
    "plt.plot(x,y3, color = 'b', label= 'y3= $O(n)$', alpha = .4)\n",
    "plt.plot(x,y4, color= 'g', label= 'y4 = $O(n log n)$', alpha = .5)\n",
    "plt.plot(x,y5, color= 'coral', label= 'y5 = $O(n^2)$', alpha = .6)\n",
    "plt.plot(x,y6, color= 'olive', label= 'y6 = $O(2^n)$', alpha = .7)\n",
    "plt.plot(x,y7, color= 'lime', label= 'y7 = $O(n!)$', alpha = .8)\n",
    "plt.plot(x,y8, color= 'violet', label= 'y8 = $O(n^n)$', alpha = .9)\n",
    "\n",
    "plt.title('Big O Notation', fontsize = 20)\n",
    "plt.xlabel('Elements')\n",
    "plt.ylabel('Operations')\n",
    "\n",
    "plt.annotate('LaTex', xy= (1.5,10))\n",
    "\n",
    "plt.legend(loc = 'upper right', fontsize = 14)\n",
    "plt.xlim(1, 11)\n",
    "plt.ylim(0, 50)\n",
    "\n",
    "plt.show()"
   ]
  },
  {
   "cell_type": "code",
   "execution_count": null,
   "id": "61c90b99",
   "metadata": {},
   "outputs": [],
   "source": [
    "plt.figure(figsize = (10,8))\n",
    "\n",
    "x= (range(1,4))\n",
    "y1 = [1 for n in x]\n",
    "y2 = [math.log(n) for n in x]\n",
    "y3 = [n for n in x]\n",
    "y4= [n * math.log(n) for n in x]\n",
    "y5= [n**2 for n in x]\n",
    "y6= [2**n for n in x]\n",
    "y7= [math.factorial(n) for n in x]\n",
    "y8= [n**n for n in x]\n",
    "\n",
    "\n",
    "plt.plot(x,y1, color = 'orange', label= 'y1= $O(1)$')\n",
    "plt.plot(x,y2, color = 'green', label= 'y2 = $O(log n)$')\n",
    "plt.plot(x,y3, color = 'magenta', label= 'y3= $O(n)$')\n",
    "plt.plot(x,y4, color= 'black', label= 'y4 = $O(n log n)$')\n",
    "plt.plot(x,y5, color= 'blue', label= 'y5 = $O(n^2)$')\n",
    "plt.plot(x,y6, color= 'red', label= 'y6 = $O(2^n)$')\n",
    "plt.plot(x,y7, color= 'yellow', label= 'y7 = $O(n!)$')\n",
    "plt.plot(x,y8, color= 'brown', label= 'y8 = $O(n^n)$')\n",
    "\n",
    "plt.title('Big O Notation')\n",
    "plt.xlabel('Elements')\n",
    "plt.ylabel('Operations')\n",
    "\n",
    "plt.annotate('LaTex', xy= (1.5,10))\n",
    "\n",
    "plt.legend()\n",
    "\n",
    "plt.show()\n"
   ]
  }
 ],
 "metadata": {
  "kernelspec": {
   "display_name": "Python 3 (ipykernel)",
   "language": "python",
   "name": "python3"
  },
  "language_info": {
   "codemirror_mode": {
    "name": "ipython",
    "version": 3
   },
   "file_extension": ".py",
   "mimetype": "text/x-python",
   "name": "python",
   "nbconvert_exporter": "python",
   "pygments_lexer": "ipython3",
   "version": "3.10.9"
  }
 },
 "nbformat": 4,
 "nbformat_minor": 5
}
